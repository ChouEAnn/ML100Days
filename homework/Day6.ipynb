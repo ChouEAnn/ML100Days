{
 "cells": [
  {
   "cell_type": "code",
   "execution_count": 1,
   "metadata": {},
   "outputs": [],
   "source": [
    "import numpy as np"
   ]
  },
  {
   "cell_type": "code",
   "execution_count": 57,
   "metadata": {},
   "outputs": [],
   "source": [
    "#a.sum() 是運用a這個numpy陣列本身的功能來s加總\n",
    "#np.sum(a) 是外部叫出numpy.sum()來執行加總\n",
    "#sum(a) 則是直接使用python內建的功能來加總"
   ]
  },
  {
   "cell_type": "code",
   "execution_count": 79,
   "metadata": {},
   "outputs": [
    {
     "data": {
      "text/plain": [
       "array([[0.01649255, 0.58691957, 0.91088757, 0.40571025, 0.55207524],\n",
       "       [0.44421633, 0.14021358, 0.20943834, 0.82778889, 0.36916617],\n",
       "       [0.37965678, 0.75569578, 0.29879927, 0.17140163, 0.36696046],\n",
       "       [0.31899527, 0.20745019, 0.80302253, 0.37493673, 0.96506938],\n",
       "       [0.25761828, 0.31201416, 0.64202159, 0.73986184, 0.94383077]])"
      ]
     },
     "execution_count": 79,
     "metadata": {},
     "output_type": "execute_result"
    }
   ],
   "source": [
    "A = np.random.random((5, 5))\n",
    "A = A-(A.min())\n",
    "A = A/(A.max())\n",
    "A"
   ]
  },
  {
   "cell_type": "code",
   "execution_count": 87,
   "metadata": {},
   "outputs": [],
   "source": [
    "B = np.random.random(10)\n",
    "B[B.argmax()]=-1\n",
    "B"
   ]
  }
 ],
 "metadata": {
  "kernelspec": {
   "display_name": "Python 3",
   "language": "python",
   "name": "python3"
  },
  "language_info": {
   "codemirror_mode": {
    "name": "ipython",
    "version": 3
   },
   "file_extension": ".py",
   "mimetype": "text/x-python",
   "name": "python",
   "nbconvert_exporter": "python",
   "pygments_lexer": "ipython3",
   "version": "3.8.5"
  }
 },
 "nbformat": 4,
 "nbformat_minor": 4
}
