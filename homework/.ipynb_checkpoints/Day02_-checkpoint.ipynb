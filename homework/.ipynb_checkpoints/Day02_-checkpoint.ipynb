{
 "cells": [
  {
   "cell_type": "code",
   "execution_count": 1,
   "metadata": {},
   "outputs": [],
   "source": [
    "import numpy as np"
   ]
  },
  {
   "cell_type": "code",
   "execution_count": 65,
   "metadata": {},
   "outputs": [],
   "source": [
    "A=np.random.randint(0,20,10).reshape(2,5)"
   ]
  },
  {
   "cell_type": "code",
   "execution_count": 66,
   "metadata": {},
   "outputs": [
    {
     "name": "stdout",
     "output_type": "stream",
     "text": [
      "<class 'numpy.ndarray'>\n",
      "int32\n"
     ]
    }
   ],
   "source": [
    "print(type(A))\n",
    "print(A.dtype)"
   ]
  },
  {
   "cell_type": "code",
   "execution_count": 67,
   "metadata": {},
   "outputs": [],
   "source": [
    "#1\n",
    "#type(...)顯示的是python內建的資料型態，因此顯示資料為numpy的資料\n",
    "#a.dtype則是顯示於陣列中的資料型態"
   ]
  },
  {
   "cell_type": "code",
   "execution_count": 68,
   "metadata": {},
   "outputs": [],
   "source": [
    "#2\n",
    "def is_dtype(a ,t):\n",
    "    if a.dtype == t:\n",
    "        print('correct')\n",
    "    else:\n",
    "        print('wrong')"
   ]
  },
  {
   "cell_type": "code",
   "execution_count": 93,
   "metadata": {},
   "outputs": [],
   "source": [
    "#3\n",
    "a = np.random.randint(10, size=6) \n",
    "\n",
    "def is_dtype1(a, t):\n",
    "    return a.dtype is t \n",
    "#is的用法非常嚴格，必須是連記憶體位址都相同才行，因此這裡不適用\n",
    "def is_dtype2(a, t):\n",
    "    return type(a) == np.dtype(t)\n",
    "#type(...)與np.dtype回傳的資訊不相同，type()回傳的值回python判斷的資料型態，而np.dtype()回傳的則是np.array中的資料型態\n",
    "def is_dtype3(a, t):\n",
    "    return type(a) is np.dtype(t)\n",
    "#同上"
   ]
  },
  {
   "cell_type": "code",
   "execution_count": 56,
   "metadata": {},
   "outputs": [],
   "source": [
    "#進階\n",
    "#1\n",
    "array1=np.array(range(30)).reshape(5,6,order='F')\n",
    "array1"
   ]
  },
  {
   "cell_type": "code",
   "execution_count": 58,
   "metadata": {},
   "outputs": [
    {
     "data": {
      "text/plain": [
       "(array([0, 1, 2, 3, 4], dtype=int64), array([5, 0, 1, 2, 3], dtype=int64))"
      ]
     },
     "execution_count": 58,
     "metadata": {},
     "output_type": "execute_result"
    }
   ],
   "source": [
    "#2\n",
    "np.where(array1%6==1)"
   ]
  }
 ],
 "metadata": {
  "kernelspec": {
   "display_name": "Python 3",
   "language": "python",
   "name": "python3"
  },
  "language_info": {
   "codemirror_mode": {
    "name": "ipython",
    "version": 3
   },
   "file_extension": ".py",
   "mimetype": "text/x-python",
   "name": "python",
   "nbconvert_exporter": "python",
   "pygments_lexer": "ipython3",
   "version": "3.8.5"
  }
 },
 "nbformat": 4,
 "nbformat_minor": 4
}
