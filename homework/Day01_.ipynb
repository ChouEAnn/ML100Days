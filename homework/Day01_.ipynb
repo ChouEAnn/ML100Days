{
 "cells": [
  {
   "cell_type": "code",
   "execution_count": 1,
   "metadata": {},
   "outputs": [],
   "source": [
    "import numpy as np"
   ]
  },
  {
   "cell_type": "code",
   "execution_count": 6,
   "metadata": {},
   "outputs": [],
   "source": [
    "#1.[簡答題] 請問下列兩種將 Array 轉換成 List 的方式有何不同？\n",
    "\n",
    "#list(a) 只會把第一層的元素轉換成 List，多層的話只有第一層會轉；tolist() 才能達成多層的型態轉換。"
   ]
  },
  {
   "cell_type": "code",
   "execution_count": 32,
   "metadata": {},
   "outputs": [
    {
     "name": "stdout",
     "output_type": "stream",
     "text": [
      "[4 5 6 4 0 7]\n",
      "ndim=1\n",
      "shape=(6,)\n",
      "size=6\n",
      "dtype=int32\n",
      "itemsize=4\n",
      "length=6\n",
      "type=<class 'numpy.ndarray'>\n"
     ]
    }
   ],
   "source": [
    "#2.請試著在程式中印出以下三個 NdArray 的屬性？（屬性：ndim、shape、size、dtype、itemsize、length、type）\n",
    "a = np.random.randint(10, size=6)\n",
    "print(a)\n",
    "print('ndim='+str(a.ndim))\n",
    "print('shape='+str(a.shape))\n",
    "print('size='+str(a.size))\n",
    "print('dtype='+str(a.dtype))\n",
    "print('itemsize='+str(a.itemsize))\n",
    "print('length='+str(len(a)))\n",
    "print('type='+str(type(a)))\n"
   ]
  },
  {
   "cell_type": "code",
   "execution_count": 34,
   "metadata": {},
   "outputs": [
    {
     "name": "stdout",
     "output_type": "stream",
     "text": [
      "[[8 7 9 5]\n",
      " [8 2 5 8]\n",
      " [2 0 7 7]]\n",
      "ndim=2\n",
      "shape=(3, 4)\n",
      "size=12\n",
      "dtype=int32\n",
      "itemsize=4\n",
      "length=3\n",
      "type=<class 'numpy.ndarray'>\n"
     ]
    }
   ],
   "source": [
    "b = np.random.randint(10, size=(3,4)) \n",
    "print(b)\n",
    "print('ndim='+str(b.ndim))\n",
    "print('shape='+str(b.shape))\n",
    "print('size='+str(b.size))\n",
    "print('dtype='+str(b.dtype))\n",
    "print('itemsize='+str(b.itemsize))\n",
    "print('length='+str(len(b)))\n",
    "print('type='+str(type(b)))"
   ]
  },
  {
   "cell_type": "code",
   "execution_count": 35,
   "metadata": {},
   "outputs": [
    {
     "name": "stdout",
     "output_type": "stream",
     "text": [
      "[[[5 5]\n",
      "  [8 1]\n",
      "  [9 2]]\n",
      "\n",
      " [[4 9]\n",
      "  [0 6]\n",
      "  [9 1]]]\n",
      "ndim=3\n",
      "shape=(2, 3, 2)\n",
      "size=12\n",
      "dtype=int32\n",
      "itemsize=4\n",
      "length=2\n",
      "type=<class 'numpy.ndarray'>\n"
     ]
    }
   ],
   "source": [
    "c = np.random.randint(10, size=(2,3,2)) \n",
    "print(c)\n",
    "print('ndim='+str(c.ndim))\n",
    "print('shape='+str(c.shape))\n",
    "print('size='+str(c.size))\n",
    "print('dtype='+str(c.dtype))\n",
    "print('itemsize='+str(c.itemsize))\n",
    "print('length='+str(len(c)))\n",
    "print('type='+str(type(c)))"
   ]
  },
  {
   "cell_type": "code",
   "execution_count": 18,
   "metadata": {},
   "outputs": [
    {
     "data": {
      "text/plain": [
       "numpy.ndarray"
      ]
     },
     "execution_count": 18,
     "metadata": {},
     "output_type": "execute_result"
    }
   ],
   "source": [
    "#3.如何利用 list(...) 實現 a.tolist() 的效果？試著用程式實作。\n",
    "a=np.arange(20).reshape(4,5)\n",
    "type(a)"
   ]
  },
  {
   "cell_type": "code",
   "execution_count": 9,
   "metadata": {},
   "outputs": [
    {
     "name": "stdout",
     "output_type": "stream",
     "text": [
      "[array([0, 1, 2, 3, 4]), array([5, 6, 7, 8, 9]), array([10, 11, 12, 13, 14]), array([15, 16, 17, 18, 19])]\n",
      "[[0, 1, 2, 3, 4], [5, 6, 7, 8, 9], [10, 11, 12, 13, 14], [15, 16, 17, 18, 19]]\n"
     ]
    }
   ],
   "source": [
    "print(list(a))\n",
    "print(a.tolist())"
   ]
  },
  {
   "cell_type": "code",
   "execution_count": 15,
   "metadata": {},
   "outputs": [],
   "source": [
    "def tolist(a):\n",
    "    if type(a) != np.ndarray:\n",
    "        return a\n",
    "    newlist=[]\n",
    "    for obj in a:\n",
    "        newlist.append(tolist(obj))\n",
    "    return list(newlist)"
   ]
  },
  {
   "cell_type": "code",
   "execution_count": 16,
   "metadata": {},
   "outputs": [
    {
     "data": {
      "text/plain": [
       "[[0, 1, 2, 3, 4], [5, 6, 7, 8, 9], [10, 11, 12, 13, 14], [15, 16, 17, 18, 19]]"
      ]
     },
     "execution_count": 16,
     "metadata": {},
     "output_type": "execute_result"
    }
   ],
   "source": [
    "tolist(a)"
   ]
  },
  {
   "cell_type": "code",
   "execution_count": null,
   "metadata": {},
   "outputs": [],
   "source": []
  }
 ],
 "metadata": {
  "kernelspec": {
   "display_name": "Python 3",
   "language": "python",
   "name": "python3"
  },
  "language_info": {
   "codemirror_mode": {
    "name": "ipython",
    "version": 3
   },
   "file_extension": ".py",
   "mimetype": "text/x-python",
   "name": "python",
   "nbconvert_exporter": "python",
   "pygments_lexer": "ipython3",
   "version": "3.8.5"
  }
 },
 "nbformat": 4,
 "nbformat_minor": 4
}
